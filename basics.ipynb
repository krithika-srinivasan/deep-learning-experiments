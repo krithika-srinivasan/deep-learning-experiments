{
  "nbformat": 4,
  "nbformat_minor": 0,
  "metadata": {
    "colab": {
      "name": "basics.ipynb",
      "provenance": [],
      "authorship_tag": "ABX9TyN5bAKq6Fmx+Vb9L4w/aDsl",
      "include_colab_link": true
    },
    "kernelspec": {
      "name": "python3",
      "display_name": "Python 3"
    }
  },
  "cells": [
    {
      "cell_type": "markdown",
      "metadata": {
        "id": "view-in-github",
        "colab_type": "text"
      },
      "source": [
        "<a href=\"https://colab.research.google.com/github/krithika-srinivasan/deep-learning-experiments/blob/main/basics.ipynb\" target=\"_parent\"><img src=\"https://colab.research.google.com/assets/colab-badge.svg\" alt=\"Open In Colab\"/></a>"
      ]
    },
    {
      "cell_type": "code",
      "metadata": {
        "id": "rFic4OlK3McM"
      },
      "source": [
        "from keras.datasets import mnist"
      ],
      "execution_count": null,
      "outputs": []
    },
    {
      "cell_type": "code",
      "metadata": {
        "id": "FjfGw6NX3ZiJ",
        "colab": {
          "base_uri": "https://localhost:8080/"
        },
        "outputId": "4f5bc816-fd9a-4c5e-ec8f-f126c34cbdc1"
      },
      "source": [
        "(train_images, train_labels), (test_images, test_labels) = mnist.load_data()"
      ],
      "execution_count": null,
      "outputs": [
        {
          "output_type": "stream",
          "text": [
            "Downloading data from https://storage.googleapis.com/tensorflow/tf-keras-datasets/mnist.npz\n",
            "11493376/11490434 [==============================] - 0s 0us/step\n"
          ],
          "name": "stdout"
        }
      ]
    },
    {
      "cell_type": "code",
      "metadata": {
        "colab": {
          "base_uri": "https://localhost:8080/"
        },
        "id": "InPRO2O43qGp",
        "outputId": "0f3503ee-dab8-4208-88f3-affb0838faa2"
      },
      "source": [
        "train_labels"
      ],
      "execution_count": null,
      "outputs": [
        {
          "output_type": "execute_result",
          "data": {
            "text/plain": [
              "array([5, 0, 4, ..., 5, 6, 8], dtype=uint8)"
            ]
          },
          "metadata": {
            "tags": []
          },
          "execution_count": 5
        }
      ]
    },
    {
      "cell_type": "code",
      "metadata": {
        "id": "tV1Vjbrf37IP"
      },
      "source": [
        "from keras import models\r\n",
        "from keras import layers\r\n",
        "\r\n",
        "network = models.Sequential()\r\n",
        "network.add(layers.Dense(512, activation='relu', input_shape=(28 * 28,)))\r\n",
        "network.add(layers.Dense(10, activation='softmax'))\r\n",
        "\r\n",
        "network.compile(optimizer='rmsprop', loss='categorical_crossentropy', metrics=['accuracy'])"
      ],
      "execution_count": null,
      "outputs": []
    },
    {
      "cell_type": "code",
      "metadata": {
        "id": "UJ61-9-449KL"
      },
      "source": [
        "train_images = train_images.reshape((60000, 28 * 28))\r\n",
        "train_images = train_images.astype('float32')/255\r\n",
        "\r\n",
        "test_images = test_images.reshape((10000, 28 * 28))\r\n",
        "test_images = test_images.astype('float32')/255"
      ],
      "execution_count": null,
      "outputs": []
    },
    {
      "cell_type": "code",
      "metadata": {
        "id": "6XkvF8iF6daY"
      },
      "source": [
        "from keras.utils import to_categorical\r\n",
        "\r\n",
        "train_labels = to_categorical(train_labels)\r\n",
        "test_labels = to_categorical(test_labels)"
      ],
      "execution_count": null,
      "outputs": []
    },
    {
      "cell_type": "code",
      "metadata": {
        "colab": {
          "base_uri": "https://localhost:8080/"
        },
        "id": "lfPc7LUO6v1J",
        "outputId": "54d8099c-6ce1-40a4-c0e6-083dce1b3ac7"
      },
      "source": [
        "network.fit(train_images, train_labels, epochs=5, batch_size=128)"
      ],
      "execution_count": null,
      "outputs": [
        {
          "output_type": "stream",
          "text": [
            "Epoch 1/5\n",
            "469/469 [==============================] - 5s 10ms/step - loss: 0.4297 - accuracy: 0.8729\n",
            "Epoch 2/5\n",
            "469/469 [==============================] - 5s 10ms/step - loss: 0.1099 - accuracy: 0.9689\n",
            "Epoch 3/5\n",
            "469/469 [==============================] - 5s 10ms/step - loss: 0.0686 - accuracy: 0.9807\n",
            "Epoch 4/5\n",
            "469/469 [==============================] - 5s 10ms/step - loss: 0.0480 - accuracy: 0.9851\n",
            "Epoch 5/5\n",
            "469/469 [==============================] - 5s 10ms/step - loss: 0.0384 - accuracy: 0.9884\n"
          ],
          "name": "stdout"
        },
        {
          "output_type": "execute_result",
          "data": {
            "text/plain": [
              "<tensorflow.python.keras.callbacks.History at 0x7eff98dba550>"
            ]
          },
          "metadata": {
            "tags": []
          },
          "execution_count": 17
        }
      ]
    },
    {
      "cell_type": "code",
      "metadata": {
        "colab": {
          "base_uri": "https://localhost:8080/"
        },
        "id": "jS53w_I87Nu_",
        "outputId": "f3797b21-a0d6-41eb-a3e2-2e4e1b7fd7ea"
      },
      "source": [
        "test_loss, test_acc = network.evaluate(test_images, test_labels)"
      ],
      "execution_count": null,
      "outputs": [
        {
          "output_type": "stream",
          "text": [
            "313/313 [==============================] - 1s 2ms/step - loss: 0.0708 - accuracy: 0.9779\n"
          ],
          "name": "stdout"
        }
      ]
    },
    {
      "cell_type": "code",
      "metadata": {
        "id": "lIDkf6uz7d8P",
        "colab": {
          "base_uri": "https://localhost:8080/"
        },
        "outputId": "7f2ac704-d09e-4d0e-cdaa-7fb5db60ae25"
      },
      "source": [
        "print(test_loss, test_acc)"
      ],
      "execution_count": null,
      "outputs": [
        {
          "output_type": "stream",
          "text": [
            "0.07080624252557755 0.9779000282287598\n"
          ],
          "name": "stdout"
        }
      ]
    },
    {
      "cell_type": "code",
      "metadata": {
        "id": "gquHbmZ96X-c",
        "colab": {
          "base_uri": "https://localhost:8080/"
        },
        "outputId": "b0ab0a78-7c43-43d0-9401-76a6f6f83a3d"
      },
      "source": [
        "print(train_images.ndim)\r\n"
      ],
      "execution_count": null,
      "outputs": [
        {
          "output_type": "stream",
          "text": [
            "3\n"
          ],
          "name": "stdout"
        }
      ]
    },
    {
      "cell_type": "code",
      "metadata": {
        "colab": {
          "base_uri": "https://localhost:8080/",
          "height": 265
        },
        "id": "cG7zTRGQj8Hx",
        "outputId": "a8315c76-6ece-4223-e94c-50d91ff280d2"
      },
      "source": [
        "digit = train_images[4]\r\n",
        "\r\n",
        "import matplotlib.pyplot as plt\r\n",
        "plt.imshow(digit, cmap=plt.cm.binary)\r\n",
        "plt.show()"
      ],
      "execution_count": null,
      "outputs": [
        {
          "output_type": "display_data",
          "data": {
            "image/png": "[encoded data removed]",
            "text/plain": [
              "<Figure size 432x288 with 1 Axes>"
            ]
          },
          "metadata": {
            "tags": [],
            "needs_background": "light"
          }
        }
      ]
    },
    {
      "cell_type": "code",
      "metadata": {
        "colab": {
          "base_uri": "https://localhost:8080/"
        },
        "id": "mNHk_2zDnOhD",
        "outputId": "faac2c95-c9ab-48de-8313-cbb121fb3de7"
      },
      "source": [
        "my_slice = train_images[10:100]\r\n",
        "print(my_slice[0][0])"
      ],
      "execution_count": null,
      "outputs": [
        {
          "output_type": "stream",
          "text": [
            "[0 0 0 0 0 0 0 0 0 0 0 0 0 0 0 0 0 0 0 0 0 0 0 0 0 0 0 0]\n"
          ],
          "name": "stdout"
        }
      ]
    },
    {
      "cell_type": "code",
      "metadata": {
        "id": "bgdMtApr9Osv"
      },
      "source": [
        "def naive_relu(x):\r\n",
        "  assert len(x.shape)==2 #x should be a 2D tensor\r\n",
        "\r\n",
        "  x = x.copy() #Avoid overwriting the input tensor\r\n",
        "  for i in range(x.shape[0]):\r\n",
        "    for j in range(x.shape[1]):\r\n",
        "      x[i,j] = max(x[i,j], 0)\r\n",
        "  return x"
      ],
      "execution_count": null,
      "outputs": []
    },
    {
      "cell_type": "code",
      "metadata": {
        "id": "JU8dPNgy_sLM"
      },
      "source": [
        "def naive_add_matrix_and_vector(x,y):\r\n",
        "  assert len(x.shape) == 2\r\n",
        "  assert len(y.shape) == 1\r\n",
        "  assert x.shape[1] == y.shape[0]\r\n",
        "\r\n",
        "  x = x.copy()\r\n",
        "  for i in range(x.shape[0]):\r\n",
        "    for j in range(x.shape[1]):\r\n",
        "      x[i,j] += y[j]\r\n",
        "  return x"
      ],
      "execution_count": null,
      "outputs": []
    }
  ]
}